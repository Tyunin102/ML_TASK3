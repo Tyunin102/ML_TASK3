{
 "cells": [
  {
   "cell_type": "code",
   "execution_count": 1,
   "metadata": {},
   "outputs": [],
   "source": [
    "import pandas as pd \n",
    "from sklearn.tree import DecisionTreeClassifier\n",
    "from sklearn.linear_model import LogisticRegression\n",
    "from sklearn.svm import SVC\n",
    "from sklearn import datasets \n",
    "from sklearn.decomposition import PCA\n",
    "from sklearn.manifold import TSNE \n",
    "from sklearn.model_selection import train_test_split\n",
    "\n",
    "%load_ext autoreload\n",
    "%autoreload 2\n",
    "random_state = 42"
   ]
  },
  {
   "cell_type": "markdown",
   "metadata": {},
   "source": [
    "# Обучим модели SVC, DecisionTreeClassifier, LogisticRegression"
   ]
  },
  {
   "cell_type": "code",
   "execution_count": 2,
   "metadata": {},
   "outputs": [],
   "source": [
    "data = datasets.load_digits()\n",
    "X = data.data\n",
    "y = data.target"
   ]
  },
  {
   "cell_type": "code",
   "execution_count": 3,
   "metadata": {},
   "outputs": [],
   "source": [
    "Svc =  SVC(random_state=42)\n",
    "DecisionTree =  DecisionTreeClassifier(random_state=42)\n",
    "LogisticReg = LogisticRegression(random_state=42, max_iter=10000)\n",
    "\n",
    "pca = PCA(n_components=0.90, random_state=random_state)\n",
    "tsne = TSNE(n_components=2, random_state=42)"
   ]
  },
  {
   "cell_type": "code",
   "execution_count": 4,
   "metadata": {},
   "outputs": [],
   "source": [
    "X_train, X_test, y_train, y_test = train_test_split(X, y, test_size=0.3, random_state=42)"
   ]
  },
  {
   "cell_type": "code",
   "execution_count": 5,
   "metadata": {},
   "outputs": [
    {
     "data": {
      "text/html": [
       "<style>#sk-container-id-1 {color: black;}#sk-container-id-1 pre{padding: 0;}#sk-container-id-1 div.sk-toggleable {background-color: white;}#sk-container-id-1 label.sk-toggleable__label {cursor: pointer;display: block;width: 100%;margin-bottom: 0;padding: 0.3em;box-sizing: border-box;text-align: center;}#sk-container-id-1 label.sk-toggleable__label-arrow:before {content: \"▸\";float: left;margin-right: 0.25em;color: #696969;}#sk-container-id-1 label.sk-toggleable__label-arrow:hover:before {color: black;}#sk-container-id-1 div.sk-estimator:hover label.sk-toggleable__label-arrow:before {color: black;}#sk-container-id-1 div.sk-toggleable__content {max-height: 0;max-width: 0;overflow: hidden;text-align: left;background-color: #f0f8ff;}#sk-container-id-1 div.sk-toggleable__content pre {margin: 0.2em;color: black;border-radius: 0.25em;background-color: #f0f8ff;}#sk-container-id-1 input.sk-toggleable__control:checked~div.sk-toggleable__content {max-height: 200px;max-width: 100%;overflow: auto;}#sk-container-id-1 input.sk-toggleable__control:checked~label.sk-toggleable__label-arrow:before {content: \"▾\";}#sk-container-id-1 div.sk-estimator input.sk-toggleable__control:checked~label.sk-toggleable__label {background-color: #d4ebff;}#sk-container-id-1 div.sk-label input.sk-toggleable__control:checked~label.sk-toggleable__label {background-color: #d4ebff;}#sk-container-id-1 input.sk-hidden--visually {border: 0;clip: rect(1px 1px 1px 1px);clip: rect(1px, 1px, 1px, 1px);height: 1px;margin: -1px;overflow: hidden;padding: 0;position: absolute;width: 1px;}#sk-container-id-1 div.sk-estimator {font-family: monospace;background-color: #f0f8ff;border: 1px dotted black;border-radius: 0.25em;box-sizing: border-box;margin-bottom: 0.5em;}#sk-container-id-1 div.sk-estimator:hover {background-color: #d4ebff;}#sk-container-id-1 div.sk-parallel-item::after {content: \"\";width: 100%;border-bottom: 1px solid gray;flex-grow: 1;}#sk-container-id-1 div.sk-label:hover label.sk-toggleable__label {background-color: #d4ebff;}#sk-container-id-1 div.sk-serial::before {content: \"\";position: absolute;border-left: 1px solid gray;box-sizing: border-box;top: 0;bottom: 0;left: 50%;z-index: 0;}#sk-container-id-1 div.sk-serial {display: flex;flex-direction: column;align-items: center;background-color: white;padding-right: 0.2em;padding-left: 0.2em;position: relative;}#sk-container-id-1 div.sk-item {position: relative;z-index: 1;}#sk-container-id-1 div.sk-parallel {display: flex;align-items: stretch;justify-content: center;background-color: white;position: relative;}#sk-container-id-1 div.sk-item::before, #sk-container-id-1 div.sk-parallel-item::before {content: \"\";position: absolute;border-left: 1px solid gray;box-sizing: border-box;top: 0;bottom: 0;left: 50%;z-index: -1;}#sk-container-id-1 div.sk-parallel-item {display: flex;flex-direction: column;z-index: 1;position: relative;background-color: white;}#sk-container-id-1 div.sk-parallel-item:first-child::after {align-self: flex-end;width: 50%;}#sk-container-id-1 div.sk-parallel-item:last-child::after {align-self: flex-start;width: 50%;}#sk-container-id-1 div.sk-parallel-item:only-child::after {width: 0;}#sk-container-id-1 div.sk-dashed-wrapped {border: 1px dashed gray;margin: 0 0.4em 0.5em 0.4em;box-sizing: border-box;padding-bottom: 0.4em;background-color: white;}#sk-container-id-1 div.sk-label label {font-family: monospace;font-weight: bold;display: inline-block;line-height: 1.2em;}#sk-container-id-1 div.sk-label-container {text-align: center;}#sk-container-id-1 div.sk-container {/* jupyter's `normalize.less` sets `[hidden] { display: none; }` but bootstrap.min.css set `[hidden] { display: none !important; }` so we also need the `!important` here to be able to override the default hidden behavior on the sphinx rendered scikit-learn.org. See: https://github.com/scikit-learn/scikit-learn/issues/21755 */display: inline-block !important;position: relative;}#sk-container-id-1 div.sk-text-repr-fallback {display: none;}</style><div id=\"sk-container-id-1\" class=\"sk-top-container\"><div class=\"sk-text-repr-fallback\"><pre>LogisticRegression(max_iter=10000, random_state=42)</pre><b>In a Jupyter environment, please rerun this cell to show the HTML representation or trust the notebook. <br />On GitHub, the HTML representation is unable to render, please try loading this page with nbviewer.org.</b></div><div class=\"sk-container\" hidden><div class=\"sk-item\"><div class=\"sk-estimator sk-toggleable\"><input class=\"sk-toggleable__control sk-hidden--visually\" id=\"sk-estimator-id-1\" type=\"checkbox\" checked><label for=\"sk-estimator-id-1\" class=\"sk-toggleable__label sk-toggleable__label-arrow\">LogisticRegression</label><div class=\"sk-toggleable__content\"><pre>LogisticRegression(max_iter=10000, random_state=42)</pre></div></div></div></div></div>"
      ],
      "text/plain": [
       "LogisticRegression(max_iter=10000, random_state=42)"
      ]
     },
     "execution_count": 5,
     "metadata": {},
     "output_type": "execute_result"
    }
   ],
   "source": [
    "Svc.fit(X_train, y_train)\n",
    "DecisionTree.fit(X_train, y_train)\n",
    "LogisticReg.fit(X_train, y_train)"
   ]
  },
  {
   "cell_type": "code",
   "execution_count": 6,
   "metadata": {},
   "outputs": [],
   "source": [
    "svc_pred = Svc.predict(X_test)\n",
    "tree_pred = DecisionTree.predict(X_test)\n",
    "log_reg_pred = LogisticReg.predict(X_test)"
   ]
  },
  {
   "cell_type": "markdown",
   "metadata": {},
   "source": [
    "# Посмотрим на accuracy:"
   ]
  },
  {
   "cell_type": "code",
   "execution_count": 7,
   "metadata": {},
   "outputs": [
    {
     "name": "stdout",
     "output_type": "stream",
     "text": [
      "SVC: 0.987037037037037\n",
      "DecisionTree: 0.8425925925925926\n",
      "LogisticReg: 0.9722222222222222\n"
     ]
    }
   ],
   "source": [
    "from sklearn.metrics import accuracy_score\n",
    "\n",
    "print('SVC:', accuracy_score(y_true=y_test, y_pred=svc_pred))\n",
    "print('DecisionTree:', accuracy_score(y_true=y_test, y_pred=tree_pred))\n",
    "print('LogisticReg:', accuracy_score(y_true=y_test, y_pred=log_reg_pred))"
   ]
  },
  {
   "cell_type": "markdown",
   "metadata": {},
   "source": [
    "# Обучим PCA алгоритм и посмотрим на accuracy:"
   ]
  },
  {
   "cell_type": "code",
   "execution_count": 8,
   "metadata": {},
   "outputs": [
    {
     "name": "stdout",
     "output_type": "stream",
     "text": [
      "PCA работал для X_Train: 0.024466753005981445\n",
      "PCA работал для X_Test: 0.0009989738464355469\n"
     ]
    }
   ],
   "source": [
    "import time\n",
    "\n",
    "\n",
    "start = time.time()\n",
    "pca.fit(X_train)\n",
    "X_train_ = pca.transform(X_train)\n",
    "print('PCA работал для X_Train:', time.time() - start)\n",
    "\n",
    "start = time.time()\n",
    "X_test_ = pca.transform(X_test)\n",
    "print('PCA работал для X_Test:', time.time() - start)\n"
   ]
  },
  {
   "cell_type": "code",
   "execution_count": 9,
   "metadata": {},
   "outputs": [
    {
     "name": "stdout",
     "output_type": "stream",
     "text": [
      "Для 90% дисперсии PCA нужно 21  компонент\n"
     ]
    }
   ],
   "source": [
    "n_components_for_var = pca.n_components_\n",
    "print(f'Для 90% дисперсии PCA нужно {n_components_for_var}  компонент')"
   ]
  },
  {
   "cell_type": "code",
   "execution_count": 10,
   "metadata": {},
   "outputs": [],
   "source": [
    "Svc.fit(X_train_, y_train)\n",
    "DecisionTree.fit(X_train_, y_train)\n",
    "LogisticReg.fit(X_train_, y_train)\n",
    "\n",
    "svc_pred = Svc.predict(X_test_)\n",
    "tree_pred = DecisionTree.predict(X_test_)\n",
    "log_reg_pred = LogisticReg.predict(X_test_)"
   ]
  },
  {
   "cell_type": "code",
   "execution_count": 11,
   "metadata": {},
   "outputs": [
    {
     "name": "stdout",
     "output_type": "stream",
     "text": [
      "SVC: 0.9888888888888889\n",
      "DecisionTree: 0.8574074074074074\n",
      "LogisticReg: 0.9537037037037037\n"
     ]
    }
   ],
   "source": [
    "print('SVC:', accuracy_score(y_true=y_test, y_pred=svc_pred))\n",
    "print('DecisionTree:', accuracy_score(y_true=y_test, y_pred=tree_pred))\n",
    "print('LogisticReg:', accuracy_score(y_true=y_test, y_pred=log_reg_pred))"
   ]
  },
  {
   "cell_type": "markdown",
   "metadata": {},
   "source": [
    "# Обучим TSNE и посмотрим на accuracy:"
   ]
  },
  {
   "cell_type": "code",
   "execution_count": 12,
   "metadata": {},
   "outputs": [
    {
     "name": "stdout",
     "output_type": "stream",
     "text": [
      "PCA работал для X_train и X_Test: 10.662317752838135\n"
     ]
    }
   ],
   "source": [
    "start = time.time()\n",
    "X_ = tsne.fit_transform(X)\n",
    "print('PCA работал для X_train и X_Test:', time.time() - start)\n",
    "\n",
    "X_train_, X_test_, y_train, y_test = train_test_split(X_, y, test_size=0.3, random_state=42)"
   ]
  },
  {
   "cell_type": "code",
   "execution_count": 13,
   "metadata": {},
   "outputs": [],
   "source": [
    "Svc.fit(X_train_, y_train)\n",
    "DecisionTree.fit(X_train_, y_train)\n",
    "LogisticReg.fit(X_train_, y_train)\n",
    "\n",
    "svc_pred = Svc.predict(X_test_)\n",
    "tree_pred = DecisionTree.predict(X_test_)\n",
    "log_reg_pred = LogisticReg.predict(X_test_)"
   ]
  },
  {
   "cell_type": "code",
   "execution_count": 14,
   "metadata": {},
   "outputs": [
    {
     "name": "stdout",
     "output_type": "stream",
     "text": [
      "SVC: 0.975925925925926\n",
      "DecisionTree: 0.9777777777777777\n",
      "LogisticReg: 0.9277777777777778\n"
     ]
    }
   ],
   "source": [
    "print('SVC:', accuracy_score(y_true=y_test, y_pred=svc_pred))\n",
    "print('DecisionTree:', accuracy_score(y_true=y_test, y_pred=tree_pred))\n",
    "print('LogisticReg:', accuracy_score(y_true=y_test, y_pred=log_reg_pred))"
   ]
  },
  {
   "cell_type": "markdown",
   "metadata": {},
   "source": [
    "# Результаты:\n",
    "## Accuracy без всего:\n",
    "\n",
    "SVC: 0.987037037037037\n",
    "\n",
    "DecisionTree: 0.8425925925925926\n",
    "\n",
    "LogisticReg: 0.9722222222222222\n",
    "\n",
    "## Accuracy с PCA:\n",
    "\n",
    "SVC: 0.9888888888888889\n",
    "\n",
    "DecisionTree: 0.8574074074074074\n",
    "\n",
    "LogisticReg: 0.9537037037037037\n",
    "\n",
    "## Accuracy с PCA:\n",
    "\n",
    "SVC: 0.975925925925926\n",
    "\n",
    "DecisionTree: 0.9777777777777777\n",
    "\n",
    "LogisticReg: 0.9277777777777778\n",
    "\n",
    "# Резюмируем:\n",
    "1) Лучше всего сработал SVC с PCA.\n",
    "2) Для Решаюшего дерева TSNE дал очень сильный прирост метрики\n",
    "3) Для Логистической регрессии оба преобразования дали ухудшение метрик\n",
    "\n",
    "# Для сохранения 90% дисперии PCA алгоритму необходимо: \n",
    "21 компонента \n",
    "\n",
    "# Время работы алгоритмов уменьшения размерности:\n",
    "TSNE: 10.662317752838135 сек\n",
    "\n",
    "PCA: 0.040997982025146484 сек"
   ]
  },
  {
   "cell_type": "code",
   "execution_count": null,
   "metadata": {},
   "outputs": [],
   "source": []
  }
 ],
 "metadata": {
  "kernelspec": {
   "display_name": "Python 3",
   "language": "python",
   "name": "python3"
  },
  "language_info": {
   "codemirror_mode": {
    "name": "ipython",
    "version": 3
   },
   "file_extension": ".py",
   "mimetype": "text/x-python",
   "name": "python",
   "nbconvert_exporter": "python",
   "pygments_lexer": "ipython3",
   "version": "3.11.0"
  }
 },
 "nbformat": 4,
 "nbformat_minor": 2
}
